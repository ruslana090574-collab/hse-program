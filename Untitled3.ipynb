{
 "cells": [
  {
   "cell_type": "code",
   "execution_count": 2,
   "id": "96b31ae1-851e-46af-875f-e910df70976f",
   "metadata": {},
   "outputs": [
    {
     "name": "stdin",
     "output_type": "stream",
     "text": [
      "Введите слово testing\n"
     ]
    },
    {
     "name": "stdout",
     "output_type": "stream",
     "text": [
      "t\n"
     ]
    }
   ],
   "source": [
    "word = input(\"Введите слово\")\n",
    "a = len(word)\n",
    "if a == 0:\n",
    "    print ('None')\n",
    "elif len(word) % 2 == 1:\n",
    "    print(word[a//2])\n",
    "else:\n",
    "    print(word[a//2-1:a//2+1])\n"
   ]
  },
  {
   "cell_type": "code",
   "execution_count": null,
   "id": "96de5de6-8417-4fed-bf70-acd893eafb64",
   "metadata": {},
   "outputs": [],
   "source": []
  }
 ],
 "metadata": {
  "kernelspec": {
   "display_name": "Python [conda env:base] *",
   "language": "python",
   "name": "conda-base-py"
  },
  "language_info": {
   "codemirror_mode": {
    "name": "ipython",
    "version": 3
   },
   "file_extension": ".py",
   "mimetype": "text/x-python",
   "name": "python",
   "nbconvert_exporter": "python",
   "pygments_lexer": "ipython3",
   "version": "3.13.5"
  }
 },
 "nbformat": 4,
 "nbformat_minor": 5
}
